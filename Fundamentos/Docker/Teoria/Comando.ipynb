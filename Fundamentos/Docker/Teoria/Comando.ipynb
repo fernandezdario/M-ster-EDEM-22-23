{
 "cells": [
  {
   "cell_type": "code",
   "execution_count": null,
   "metadata": {},
   "outputs": [],
   "source": []
  }
 ],
 "metadata": {
  "kernelspec": {
   "display_name": "Python 3.9.12 ('base')",
   "language": "python",
   "name": "python3"
  },
  "language_info": {
   "name": "python",
   "version": "3.9.12"
  },
  "orig_nbformat": 4,
  "vscode": {
   "interpreter": {
    "hash": "1e0c7b01d1ee234480fbb8f2f1344476b23de1c8cd4974b908bf5055148036ec"
   }
  }
 },
 "nbformat": 4,
 "nbformat_minor": 2
}
