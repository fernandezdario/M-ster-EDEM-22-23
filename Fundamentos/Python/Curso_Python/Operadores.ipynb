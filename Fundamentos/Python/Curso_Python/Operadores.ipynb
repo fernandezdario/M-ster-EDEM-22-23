{
 "cells": [
  {
   "cell_type": "markdown",
   "metadata": {},
   "source": [
    "Ejercicio 3"
   ]
  },
  {
   "cell_type": "code",
   "execution_count": 1,
   "metadata": {},
   "outputs": [
    {
     "name": "stdout",
     "output_type": "stream",
     "text": [
      "El numero mágico es 888888888\n"
     ]
    }
   ],
   "source": [
    "numero_magico = 12345679\n",
    "numero_usuario = int(input('Escribe un numero del 1 al 9: '))\n",
    "numero_usuario *= 9\n",
    "numero_magico *= numero_usuario\n",
    "print('El numero mágico es', numero_magico)"
   ]
  },
  {
   "cell_type": "markdown",
   "metadata": {},
   "source": []
  }
 ],
 "metadata": {
  "kernelspec": {
   "display_name": "Python 3.9.12 ('base')",
   "language": "python",
   "name": "python3"
  },
  "language_info": {
   "codemirror_mode": {
    "name": "ipython",
    "version": 3
   },
   "file_extension": ".py",
   "mimetype": "text/x-python",
   "name": "python",
   "nbconvert_exporter": "python",
   "pygments_lexer": "ipython3",
   "version": "3.9.12"
  },
  "orig_nbformat": 4,
  "vscode": {
   "interpreter": {
    "hash": "1e0c7b01d1ee234480fbb8f2f1344476b23de1c8cd4974b908bf5055148036ec"
   }
  }
 },
 "nbformat": 4,
 "nbformat_minor": 2
}
