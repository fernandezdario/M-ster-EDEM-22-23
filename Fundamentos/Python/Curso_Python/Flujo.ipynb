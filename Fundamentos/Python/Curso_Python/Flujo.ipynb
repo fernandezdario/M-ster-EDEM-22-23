{
 "cells": [
  {
   "cell_type": "markdown",
   "metadata": {},
   "source": [
    "Ejercicio if"
   ]
  },
  {
   "cell_type": "code",
   "execution_count": 1,
   "metadata": {},
   "outputs": [],
   "source": [
    "# Variables del ejercicio (no las edites)\n",
    "cadena_1 = 'asterisico'\n",
    "cadena_2 = 'tusmuertos'\n",
    "# Completa el ejercicio a partir de aquí\n",
    "if len(cadena_1) > len(cadena_2):\n",
    "    resultado = 1\n",
    "elif len(cadena_1) < len(cadena_2):\n",
    "    resultado = 2\n",
    "else:\n",
    "    resultado = 0"
   ]
  },
  {
   "cell_type": "markdown",
   "metadata": {},
   "source": [
    "Bucle while\n",
    "\n",
    "Realiza un programa que lea un número por teclado y lo almacene en una variable llamada numero.\n",
    "Si ese número introducido por teclado no es múltiple de 5 debe repetirse de nuevo la lectura hasta que lo sea.\n",
    "\n",
    "Notas:\n",
    "\n",
    "Debes asegurarte de que la variable numero es un número entero introducido con la instrucción input.\n",
    "Si intentas asignar un múltiple de 5 manualmente a la variable numero la solución fallará."
   ]
  },
  {
   "cell_type": "code",
   "execution_count": 3,
   "metadata": {},
   "outputs": [
    {
     "name": "stdout",
     "output_type": "stream",
     "text": [
      "El numero introducido no es multiplo de 5\n",
      "El numero introducido no es multiplo de 5\n",
      "El numero introducido no es multiplo de 5\n",
      "Este numero si que es multiplo de 5\n"
     ]
    }
   ],
   "source": [
    "numero = 3\n",
    "while numero % 5 != 0:\n",
    "    print('El numero introducido no es multiplo de 5')\n",
    "    numero = int(input())\n",
    "    if numero % 5 == 0:\n",
    "        print('Este numero si que es multiplo de 5')"
   ]
  },
  {
   "cell_type": "markdown",
   "metadata": {},
   "source": [
    "Bucle for\n",
    "En este ejercicio se te facilitará un numero aleatorio que no conoces en la variable numero.\n",
    "\n",
    "Utilizando lo que conoces sobre los bucles for y la función range() , debes realizar un sumatorio de todos los números desde 0 hasta ese numero (incluido) exceptuando los múltiples de 5 y 7, y almacenarlo en la variable sumatorio.\n",
    "\n",
    "Ejemplo, si numero fuera 7, el sumatorio sería igual a 1+2+3+4+6 = 16.\n",
    "\n",
    "Recuerda, únicamente debes sumar los números NO múltiples de 5 y 7 al sumatorio."
   ]
  },
  {
   "cell_type": "code",
   "execution_count": null,
   "metadata": {},
   "outputs": [],
   "source": [
    "from evaluate import numero\n",
    "\n",
    "sumatorio = 0\n",
    "\n",
    "# Completa el ejercicio aquí\n",
    "\n",
    "for i in range(numero+1):\n",
    "    if i % 5 != 0 and i % 7 !=0:\n",
    "            sumatorio += i\n",
    "print(sumatorio)"
   ]
  },
  {
   "cell_type": "markdown",
   "metadata": {},
   "source": [
    "Función enumerate\n",
    "En este ejercicio se te va a facilitar una variable iniciales que contiene una lista con un número indeterminado de cadenas de texto.\n",
    "\n",
    "Tu objetivo es modificar las cadenas de esa lista por la letra inicial de cada cadena en la lista utilizando, si lo requieres, la función enumerate.\n",
    "\n",
    "Supongamos que iniciales tiene el siguiente valor [\"Hola\", \"Mundo\"], tu objetivo sería transformar esos valores a [\"H\", \"M\"].\n",
    "\n",
    "Notas:\n",
    "\n",
    "Recuerda que para modificar los valores en una lista necesitas hacerlo mediante el índice de cada elemento:"
   ]
  },
  {
   "cell_type": "code",
   "execution_count": null,
   "metadata": {},
   "outputs": [],
   "source": [
    "from evaluate import iniciales\n",
    "\n",
    "# Completa el ejercicio aquí\n",
    "\n",
    "for i,cadena in enumerate(iniciales):\n",
    "    iniciales[i] = iniciales[i][0]"
   ]
  },
  {
   "cell_type": "markdown",
   "metadata": {},
   "source": [
    "Iteraciones y conversiones\n",
    "1.- Pide al usuario que introduzca un número entero por teclado entre 1 y 9 (ambos incluidos) y guárdalo en la variable numero. Debes asegurarte de que esa variable numero contiene un numero entero del 1 al 9, utiliza un bucle para repetir la lectura hasta que se cumpla esa condición.\n",
    "\n",
    "2.- Genera una lista llamada multiplos que contenga los múltiplos de numero en el rango de 1 a 100 (ambos incluidos) utilizando la conversión de un range a list con un paso: list(range(Min,Max,Paso))."
   ]
  },
  {
   "cell_type": "code",
   "execution_count": 4,
   "metadata": {},
   "outputs": [
    {
     "name": "stdout",
     "output_type": "stream",
     "text": [
      "El numero introducido no esta en el rango de 1 a 9.\n"
     ]
    }
   ],
   "source": [
    "# Completa el ejercicio \n",
    "numero = int(input())\n",
    "while numero not in range (1,10):\n",
    "    print('El numero introducido no esta en el rango de 1 a 9.')\n",
    "    numero = int(input())\n",
    "multiplos = list(range(numero,101,numero))"
   ]
  },
  {
   "cell_type": "markdown",
   "metadata": {},
   "source": [
    "Bucles anidados\n",
    "En este ejercicio se te va a facilitar una variable matriz repleta de números enteros y de la cuál lo único que sabes es que contiene dos dimensiones.\n",
    "\n",
    "Aquí tienes una estructura de ejemplo ilustrando como se forma (lista con sublistas), muy parecida a una tabla:\n",
    "\n",
    "matriz = [\n",
    "    [8,  7,  0],\n",
    "    [34, 2, -1],\n",
    "    [5, -5, 12]\n",
    "]\n",
    "El objetivo del ejercicio es modificar su contenido dinámicamente, sustituyendo todos sus números pares por 0 y los impares por 1."
   ]
  },
  {
   "cell_type": "code",
   "execution_count": null,
   "metadata": {},
   "outputs": [],
   "source": [
    "from evaluate import matriz\n",
    " \n",
    "# Primero recorremos todas las filas de la matriz con un for\n",
    "# Necesitamos usar un enumerador para poder guardar su índice de fila\n",
    "for i, fila in enumerate(matriz):\n",
    "    # Dentro de cada fila recorremos cada columna con otro for\n",
    "    # Necesitamos usar un enumerador para poder guardar su índice de columna\n",
    "    for j, columna in enumerate(fila):\n",
    "        # A partir de ambos índices podemos comprobar la celda actual\n",
    "        # Si es par asignamos a la celda un 0\n",
    "        if matriz[i][j] % 2 == 0:\n",
    "            matriz[i][j] = 0\n",
    "        # En caso contrario, si es impar, le asignamos un 1\n",
    "        else:\n",
    "            matriz[i][j] = 1"
   ]
  },
  {
   "cell_type": "markdown",
   "metadata": {},
   "source": [
    "Ejercicio 1\n",
    "\n",
    "Realiza un programa que lea dos números por teclado y permita elegir entre 3 opciones en un menú:\n",
    "\n",
    "Mostrar una suma de los dos números\n",
    "Mostrar una resta de los dos números (el primero menos el segundo)\n",
    "Mostrar una multiplicación de los dos números\n",
    "En caso de introducir una opción inválida, el programa informará de que no es correcta."
   ]
  },
  {
   "cell_type": "code",
   "execution_count": 4,
   "metadata": {},
   "outputs": [
    {
     "name": "stdout",
     "output_type": "stream",
     "text": [
      "0\n"
     ]
    }
   ],
   "source": [
    "primer_numero = int(input('Escribe un número: '))\n",
    "segundo_numero = int(input('Escribe otro número: '))\n",
    "\n",
    "interaccion = int(input('Escoge un número del 1 al 3 para realizar operaciones matemáticas. 1) para sumar, 2) para restar y 3) para multiplicar: '))\n",
    "\n",
    "if interaccion >= 1 and interaccion <= 3:\n",
    "    if interaccion == 1:\n",
    "        suma = primer_numero + segundo_numero\n",
    "        print(suma)\n",
    "    elif interaccion == 2:\n",
    "        resta = primer_numero - segundo_numero\n",
    "        print(resta)\n",
    "    elif interaccion == 3:\n",
    "        multiplicacion = primer_numero * segundo_numero\n",
    "        print(multiplicacion)\n",
    "else:\n",
    "    print('Escoge un numero entre 1 y 3 para poder realizar la operación.')\n"
   ]
  },
  {
   "cell_type": "markdown",
   "metadata": {},
   "source": [
    "Ejercicio 2\n",
    "\n",
    "Realiza un programa que lea un número impar por teclado. Si el usuario no introduce un número impar, debe repetise el proceso hasta que lo introduzca correctamente."
   ]
  },
  {
   "cell_type": "code",
   "execution_count": null,
   "metadata": {},
   "outputs": [],
   "source": [
    "impar = int(input('Escribe un número aquí y te diré si es impar o no: '))\n",
    "\n",
    "while impar % 2 == 0:\n",
    "    print('Este número no es impar.')\n",
    "    impar = int(input('Escribe un número aquí y te diré si es impar o no: '))\n",
    "    if impar % 3 == 0:\n",
    "        print('El número introducido es impar.')"
   ]
  },
  {
   "cell_type": "markdown",
   "metadata": {},
   "source": [
    "Ejercicio 3\n",
    "\n",
    "Realiza un programa que sume todos los números enteros pares desde el 0 hasta el 100."
   ]
  },
  {
   "cell_type": "code",
   "execution_count": 11,
   "metadata": {},
   "outputs": [
    {
     "name": "stdout",
     "output_type": "stream",
     "text": [
      "2550\n",
      "2550\n"
     ]
    }
   ],
   "source": [
    "numero = 0\n",
    "suma = 0\n",
    "while numero <= 100:\n",
    "    if numero % 2 == 0:\n",
    "        suma += numero\n",
    "    numero += 1\n",
    "print(suma)\n",
    "\n",
    "#otra forma más sencilla sería:\n",
    "suma = sum(range(0,101,2))\n",
    "print(suma)"
   ]
  },
  {
   "cell_type": "markdown",
   "metadata": {},
   "source": [
    "Ejercicio 4\n",
    "\n",
    "Realiza un programa que pida al usuario cuantos números quiere introducir. Luego lee todos los números y realiza una media aritmética."
   ]
  },
  {
   "cell_type": "code",
   "execution_count": 3,
   "metadata": {},
   "outputs": [
    {
     "name": "stdout",
     "output_type": "stream",
     "text": [
      "Has introducido 3 números los cuales han sumado en total 15 dando lugar a una media de: 5.0\n"
     ]
    }
   ],
   "source": [
    "repeticiones = int(input('Cuántos números quieres introducir?: '))\n",
    "suma = 0\n",
    "for r in range(repeticiones):\n",
    "    suma += int(input('Introduce un número: '))\n",
    "print('Has introducido', repeticiones, 'números los cuales han sumado en total', suma, 'dando lugar a una media de:', suma/repeticiones)"
   ]
  },
  {
   "cell_type": "markdown",
   "metadata": {},
   "source": [
    "Ejercicio 5\n",
    "\n",
    "Realiza un programa que pida al usuario un número entero del 0 al 9, y que mientras el número no sea correcto se repita el proceso. Luego debe comprobar si el número se encuentra en la lista de números y notificarlo:"
   ]
  },
  {
   "cell_type": "code",
   "execution_count": null,
   "metadata": {},
   "outputs": [],
   "source": [
    "numeros = [1, 3, 6, 9]\n",
    "peticion = int(input('Introduce un número del 1 al 9, en caso de que no esté en el rango, se te volverá a pedir: '))\n",
    "\n",
    "while peticion < 0 or peticion > 9:\n",
    "    print('Este número no está en el rango de 0 a 9.')\n",
    "    peticion = int(input('Vuelve a introducir otro número: '))\n",
    "    if peticion >= 0 and peticion <= 9:\n",
    "        break\n",
    "\n",
    "if peticion in numeros:\n",
    "    print('Este número', peticion, 'sí que se encuentra en la lista.')\n",
    "else:\n",
    "    print('Este número', peticion, 'no se encuentra en la lista.')"
   ]
  },
  {
   "cell_type": "markdown",
   "metadata": {},
   "source": [
    "Ejercicio 6\n",
    "\n",
    "Utilizando la función range() y la conversión a listas genera las siguientes listas dinámicamente:\n",
    "\n",
    "Todos los números del 0 al 10 [0, 1, 2, ..., 10]\n",
    "Todos los números del -10 al 0 [-10, -9, -8, ..., 0]\n",
    "Todos los números pares del 0 al 20 [0, 2, 4, ..., 20]\n",
    "Todos los números impares entre -20 y 0 [-19, -17, -15, ..., -1]\n",
    "Todos los números múltiples de 5 del 0 al 50 [0, 5, 10, ..., 50]"
   ]
  },
  {
   "cell_type": "code",
   "execution_count": 14,
   "metadata": {},
   "outputs": [
    {
     "name": "stdout",
     "output_type": "stream",
     "text": [
      "[0, 1, 2, 3, 4, 5, 6, 7, 8, 9]\n",
      "[-10, -9, -8, -7, -6, -5, -4, -3, -2, -1, 0]\n",
      "[0, 2, 4, 6, 8, 10, 12, 14, 16, 18, 20]\n",
      "[-19, -17, -15, -13, -11, -9, -7, -5, -3, -1]\n",
      "[0, 5, 10, 15, 20, 25, 30, 35, 40, 45, 50]\n"
     ]
    }
   ],
   "source": [
    "primera = list(range(10))\n",
    "segunda = list(range(-10, 1))\n",
    "tercera = list(range(0, 21, 2))\n",
    "cuarta = list(range(-19, 0, 2))\n",
    "quinta = list(range(0, 51, 5))\n",
    "print(primera)\n",
    "print(segunda)\n",
    "print(tercera)\n",
    "print(cuarta)\n",
    "print(quinta)\n"
   ]
  },
  {
   "cell_type": "markdown",
   "metadata": {},
   "source": [
    "Ejercicio 7\n",
    "\n",
    "Dadas dos listas, debes generar una tercera con todos los elementos que se repitan en ellas, pero no debe repetirse ningún elemento en la nueva lista:"
   ]
  },
  {
   "cell_type": "code",
   "execution_count": 19,
   "metadata": {},
   "outputs": [
    {
     "name": "stdout",
     "output_type": "stream",
     "text": [
      "['h', 'o', 'l', 'a', ' ', 'u', 'n']\n"
     ]
    }
   ],
   "source": [
    "lista_1 = [\"h\",'o','l','a',' ', 'm','u','n','d','o']\n",
    "lista_2 = [\"h\",'o','l','a',' ', 'l','u','n','a']\n",
    "lista_3 = []\n",
    "\n",
    "for letra in lista_1:\n",
    "    if letra in lista_2 and letra not in lista_3:\n",
    "        lista_3.append(letra)\n",
    "\n",
    "print(lista_3)"
   ]
  }
 ],
 "metadata": {
  "kernelspec": {
   "display_name": "Python 3.9.12 ('base')",
   "language": "python",
   "name": "python3"
  },
  "language_info": {
   "codemirror_mode": {
    "name": "ipython",
    "version": 3
   },
   "file_extension": ".py",
   "mimetype": "text/x-python",
   "name": "python",
   "nbconvert_exporter": "python",
   "pygments_lexer": "ipython3",
   "version": "3.9.12"
  },
  "orig_nbformat": 4,
  "vscode": {
   "interpreter": {
    "hash": "1e0c7b01d1ee234480fbb8f2f1344476b23de1c8cd4974b908bf5055148036ec"
   }
  }
 },
 "nbformat": 4,
 "nbformat_minor": 2
}
