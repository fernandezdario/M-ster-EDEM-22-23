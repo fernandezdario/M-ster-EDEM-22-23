{
  "nbformat": 4,
  "nbformat_minor": 0,
  "metadata": {
    "colab": {
      "provenance": []
    },
    "kernelspec": {
      "name": "python3",
      "display_name": "Python 3"
    },
    "language_info": {
      "name": "python"
    }
  },
  "cells": [
    {
      "cell_type": "markdown",
      "source": [
        "# Ejemplos de ejercicios en SQL"
      ],
      "metadata": {
        "id": "4Op78nmfolFE"
      }
    },
    {
      "cell_type": "markdown",
      "source": [
        "Seleccionar únicamente los alumnos que sean de Portugal."
      ],
      "metadata": {
        "id": "bpF5mYCZSmR8"
      }
    },
    {
      "cell_type": "code",
      "execution_count": null,
      "metadata": {
        "id": "ubQ5W1ytHXiR"
      },
      "outputs": [],
      "source": [
        "SELECT NOM, COGNOM, DIRECCION, EMAIL FROM `Ejemplo_SQL.ALUMNOS` \n",
        "WHERE PAIS LIKE 'Portugal';"
      ]
    },
    {
      "cell_type": "markdown",
      "source": [
        "Seleccionar aquellos Masters que contengan una D. Sin embargo, debemos poner tanto %d% como D%, ya que si solo ponemos la D mayúscula solo nos cogerá aquellos Masters que contengan un D mayúscula."
      ],
      "metadata": {
        "id": "VeytwsjdS4Ra"
      }
    },
    {
      "cell_type": "code",
      "source": [
        "SELECT * FROM `Ejemplo_SQL.MASTERS`\n",
        "WHERE NOM LIKE '%d%' OR NOM LIKE 'D%';"
      ],
      "metadata": {
        "id": "UU3fbX7zHia5"
      },
      "execution_count": null,
      "outputs": []
    },
    {
      "cell_type": "markdown",
      "source": [
        "Seleccionar aquellos alumnos que tengan un ID comprendido entre 37 y 45 y que se ordenen de forma ascendente."
      ],
      "metadata": {
        "id": "sTrb2O-RTh9K"
      }
    },
    {
      "cell_type": "code",
      "source": [
        "SELECT * FROM `Ejemplo_SQL.ALUMNOS`\n",
        "WHERE ID BETWEEN 37 AND 45 ORDER BY ID ASC;"
      ],
      "metadata": {
        "id": "-d0dEjK9HlvX"
      },
      "execution_count": null,
      "outputs": []
    },
    {
      "cell_type": "markdown",
      "source": [
        "Insertar un nuevo alumno. En primer lugar, debemos establecer el orden en el que se irán incluyendo los diferentes valores que vayamos aportando, de tal manera que se sincronicen con el resto de valores de la tabla que tenemos."
      ],
      "metadata": {
        "id": "s1zBkC4WTsYE"
      }
    },
    {
      "cell_type": "code",
      "source": [
        "INSERT INTO `Ejemplo_SQL.ALUMNOS`\n",
        "(ID, NOM, COGNOM,PAIS, DIRECCION, EMAIL)\n",
        "VALUES (100,'Darío','Fernández','España','Rincon de Ademuz', 'fernandezdario17@gmail.com');"
      ],
      "metadata": {
        "id": "NnMaIxn1HnZH"
      },
      "execution_count": null,
      "outputs": []
    },
    {
      "cell_type": "markdown",
      "source": [
        "En este caso, estamos actualizando el valor del email de aquellos alumnos que tengan un ID = 100. Como previamente le hemos dicho que yo tengo un valor de 100 en el ID que modifique mi email."
      ],
      "metadata": {
        "id": "6Fe-acEpUAKt"
      }
    },
    {
      "cell_type": "code",
      "source": [
        "\n",
        "UPDATE `Ejemplo_SQL.ALUMNOS`\n",
        "SET EMAIL = 'dario.avatar@hotmail.com' WHERE ID = 100"
      ],
      "metadata": {
        "id": "6M1jOtXpHp9h"
      },
      "execution_count": null,
      "outputs": []
    },
    {
      "cell_type": "markdown",
      "source": [
        "En este caso, actualizamos el valor de país del alumno Darío, este caso yo. Por tanto, si previamente el país que se mostraba para el alumno Darío era España, ahora aparecerá México."
      ],
      "metadata": {
        "id": "EIqoZKQ3UUhc"
      }
    },
    {
      "cell_type": "code",
      "source": [
        "UPDATE `Ejemplo_SQL.ALUMNOS`\n",
        "SET PAIS = 'MEXICO' WHERE NOM = 'Darío';"
      ],
      "metadata": {
        "id": "oIY1kLkLHt49"
      },
      "execution_count": null,
      "outputs": []
    },
    {
      "cell_type": "markdown",
      "source": [
        "En este caso, lo que queremos es que en la tabla de masters se inserte un nuevo máster llamado MDA y que tenga un ID de Máster que sea 777."
      ],
      "metadata": {
        "id": "9Puv_3huUktY"
      }
    },
    {
      "cell_type": "code",
      "source": [
        "INSERT INTO `Ejemplo_SQL.MASTERS`\n",
        "(ID, NOM)\n",
        "VALUES (777, 'MDA');"
      ],
      "metadata": {
        "id": "MCa5NnxeQcHZ"
      },
      "execution_count": null,
      "outputs": []
    },
    {
      "cell_type": "markdown",
      "source": [
        "En este ejemplo lo que podemos observar es que en la tabla en la que se interrelacionan los másters y los alumnos se cree una nueva fila en la que el ID correspondiente al Alumno y el Máster sea 180 y además le indicamos los valores del alumno que previamente hemos definido. En este caso esta nueva fila con ID de 180, tenemos al Alumno que posee un ID de 100 y le indicamos que está estudiando el Máster que tiene un ID de 777, por lo tanto sabemos que es el Máster de Data."
      ],
      "metadata": {
        "id": "WgWZOgmzUyAi"
      }
    },
    {
      "cell_type": "code",
      "source": [
        "INSERT INTO `Ejemplo_SQL.ALU_MASTERS`\n",
        "(ID, ALU_ID, MAS_ID)\n",
        "VALUES (180, 100, 777)"
      ],
      "metadata": {
        "id": "BCGqYMYRQeaM"
      },
      "execution_count": null,
      "outputs": []
    },
    {
      "cell_type": "markdown",
      "source": [
        "En este caso lo que queremos es que nos muestre todas las columnas de la tabla de Alumnos que tengan un ID de 777. Sin embargo, no nos mostrará nada, ya que el ID 777 era el del Máster de MDA."
      ],
      "metadata": {
        "id": "OmkvXcUlVZh3"
      }
    },
    {
      "cell_type": "code",
      "source": [
        "SELECT * FROM `Ejemplo_SQL.ALUMNOS`, `Ejemplo_SQL.ALU_MASTERS`, `Ejemplo_SQL.MASTERS`\n",
        "WHERE `Ejemplo_SQL.ALUMNOS`.ID = 777;"
      ],
      "metadata": {
        "id": "nz9qrX_6Vz0E"
      },
      "execution_count": null,
      "outputs": []
    },
    {
      "cell_type": "markdown",
      "source": [
        "En este caso lo que queremos que nos muestre es básicamente aquellos alumnos que tengan un ID de 81."
      ],
      "metadata": {
        "id": "CVzg6R8mWIYU"
      }
    },
    {
      "cell_type": "code",
      "source": [
        "SELECT * FROM `Ejemplo_SQL.ALUMNOS`, `Ejemplo_SQL.ALU_MASTERS`, `Ejemplo_SQL.MASTERS`\n",
        "WHERE `Ejemplo_SQL.ALUMNOS`.ID = 81\n",
        "AND `Ejemplo_SQL.ALUMNOS`.ID = `Ejemplo_SQL.ALU_MASTERS`.ALU_ID\n",
        "AND `Ejemplo_SQL.MASTERS`.ID = `Ejemplo_SQL.ALU_MASTERS`.ALU_ID;"
      ],
      "metadata": {
        "id": "e4bQu8SuWI0q"
      },
      "execution_count": null,
      "outputs": []
    },
    {
      "cell_type": "markdown",
      "source": [
        "Borrar aquellos alumnos que se llamen Juan."
      ],
      "metadata": {
        "id": "CkDMb1K7WJQd"
      }
    },
    {
      "cell_type": "code",
      "source": [
        "DELETE FROM `Ejemplo_SQL.ALUMNOS`\n",
        "WHERE NOM = 'Juan';"
      ],
      "metadata": {
        "id": "-JPixmJ4WJo5"
      },
      "execution_count": null,
      "outputs": []
    },
    {
      "cell_type": "markdown",
      "source": [
        "Borrar aquellos alumnos que no estén cursando ningún Máster.\n",
        "Aquí lo que hacemos básicamente es que buscando en la tabla de ALU_Masters mira quien de la tabla Alumnos no se encuentra en la de ALU_MASTERS y lo elimina de la tabla de Alumnos."
      ],
      "metadata": {
        "id": "Cg_MqTh3WJ73"
      }
    },
    {
      "cell_type": "code",
      "source": [
        "DELETE FROM `Ejemplo_SQL.ALUMNOS`\n",
        "WHERE ID NOT IN (SELECT ALU_ID FROM `Ejemplo_SQL.ALU_MASTERS`);"
      ],
      "metadata": {
        "id": "v6n4tYuYWKP8"
      },
      "execution_count": null,
      "outputs": []
    },
    {
      "cell_type": "markdown",
      "source": [
        "Eliminar aquelos Másters que no tengan alumnos. \n",
        "Aquí lo que le diremos es que el ID del Máster no se encuentre dentro de la tabla de ALU_MASTERS que lo elimine de la tabla de Másters."
      ],
      "metadata": {
        "id": "PaPp-3WFWKjg"
      }
    },
    {
      "cell_type": "code",
      "source": [
        "DELETE FROM `Ejemplo_SQL.MASTERS`\n",
        "WHERE ID NOT IN (SELECT MAS_ID FROM `Ejemplo_SQL.ALU_MASTERS`);"
      ],
      "metadata": {
        "id": "-THxD7QMWLX5"
      },
      "execution_count": null,
      "outputs": []
    },
    {
      "cell_type": "markdown",
      "source": [
        "Aquí tenemos que actualizar el email de los alumnos del máster de MDA a nulo.\n",
        "Los pasos a realizar son los siguientes:\n",
        "\n",
        "\n",
        "1.   En la primera linea le damos el comando de que actualice a nulo el email en la tabla de alumnos.\n",
        "2.   En la segunda y tercera linea le decimos que el ID del alumno que se corresponda al ALU_ID y que tenga un MAS_ID que corresponda al Máster de MDA que actualice el email a NULO.\n",
        "\n"
      ],
      "metadata": {
        "id": "lw-30BKVXgl_"
      }
    },
    {
      "cell_type": "code",
      "source": [
        "UPDATE `Ejemplo_SQL.ALUMNOS` SET email = null\n",
        "WHERE ID IN (SELECT ALU_ID FROM `Ejemplo_SQL.ALU_MASTERS` \n",
        "WHERE MAS_ID IN (SELECT ID FROM `Ejemplo_SQL.MASTERS` WHERE Nom = 'MDA'))"
      ],
      "metadata": {
        "id": "S61y0dkEXg5o"
      },
      "execution_count": null,
      "outputs": []
    }
  ]
}